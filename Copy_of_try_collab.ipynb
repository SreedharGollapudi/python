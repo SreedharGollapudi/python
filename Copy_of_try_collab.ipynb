{
  "nbformat": 4,
  "nbformat_minor": 0,
  "metadata": {
    "colab": {
      "provenance": [],
      "authorship_tag": "ABX9TyMGicu9LUPyUg90DUa8Kzb9",
      "include_colab_link": true
    },
    "kernelspec": {
      "name": "python3",
      "display_name": "Python 3"
    },
    "language_info": {
      "name": "python"
    }
  },
  "cells": [
    {
      "cell_type": "markdown",
      "metadata": {
        "id": "view-in-github",
        "colab_type": "text"
      },
      "source": [
        "<a href=\"https://colab.research.google.com/github/SreedharGollapudi/python/blob/main/Copy_of_try_collab.ipynb\" target=\"_parent\"><img src=\"https://colab.research.google.com/assets/colab-badge.svg\" alt=\"Open In Colab\"/></a>"
      ]
    },
    {
      "cell_type": "code",
      "execution_count": null,
      "metadata": {
        "id": "002uaITerkUX"
      },
      "outputs": [],
      "source": []
    },
    {
      "cell_type": "markdown",
      "source": [
        "try collab with recuring function\n",
        "\n"
      ],
      "metadata": {
        "id": "zTMsDpevrlFn"
      }
    },
    {
      "cell_type": "code",
      "source": [
        "def ncr(n,r):\n",
        "  if n==0 or r==0 or n==r:\n",
        "    return 1\n",
        "  else:\n",
        "    return (ncr(n-1,r) + ncr(n-1,r-1))\n"
      ],
      "metadata": {
        "id": "zv3e5-Tdr4Vo"
      },
      "execution_count": null,
      "outputs": []
    },
    {
      "cell_type": "code",
      "source": [
        "ncr(4,2)"
      ],
      "metadata": {
        "colab": {
          "base_uri": "https://localhost:8080/"
        },
        "id": "KNv--rzatEAz",
        "outputId": "b0fbeeda-3238-4983-fe0e-5f658ccd826c"
      },
      "execution_count": null,
      "outputs": [
        {
          "output_type": "execute_result",
          "data": {
            "text/plain": [
              "6"
            ]
          },
          "metadata": {},
          "execution_count": 4
        }
      ]
    }
  ]
}