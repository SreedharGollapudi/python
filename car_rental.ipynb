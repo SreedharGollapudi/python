{
 "cells": [
  {
   "cell_type": "code",
   "execution_count": null,
   "id": "bb5bd363-bf97-4642-8f25-7d0124d096d0",
   "metadata": {},
   "outputs": [
    {
     "name": "stdout",
     "output_type": "stream",
     "text": [
      "Available Cars:\n",
      "Toyota Corolla: 5 available\n",
      "Honda Accord: 3 available\n",
      "Tesla Model S: 2 available\n",
      "\n",
      "Options:\n",
      "1. Rent a car\n",
      "2. Return a car\n",
      "3. Exit\n"
     ]
    },
    {
     "name": "stdin",
     "output_type": "stream",
     "text": [
      "Enter your choice (1/2/3):  1\n"
     ]
    },
    {
     "name": "stdout",
     "output_type": "stream",
     "text": [
      "\n",
      "Rental Options:\n",
      "1. Hourly\n",
      "2. Daily\n",
      "3. Weekly\n"
     ]
    },
    {
     "name": "stdin",
     "output_type": "stream",
     "text": [
      "Enter rental period (1/2/3):  1\n",
      "Enter car name:  indica\n",
      "Enter rental duration:  5\n"
     ]
    },
    {
     "name": "stdout",
     "output_type": "stream",
     "text": [
      "Invalid rental period. Please choose hourly, daily, or weekly.\n",
      "\n",
      "Options:\n",
      "1. Rent a car\n",
      "2. Return a car\n",
      "3. Exit\n"
     ]
    },
    {
     "name": "stdin",
     "output_type": "stream",
     "text": [
      "Enter your choice (1/2/3):  hourly\n"
     ]
    },
    {
     "name": "stdout",
     "output_type": "stream",
     "text": [
      "Invalid choice. Please try again.\n",
      "\n",
      "Options:\n",
      "1. Rent a car\n",
      "2. Return a car\n",
      "3. Exit\n"
     ]
    },
    {
     "name": "stdin",
     "output_type": "stream",
     "text": [
      "Enter your choice (1/2/3):  1\n"
     ]
    },
    {
     "name": "stdout",
     "output_type": "stream",
     "text": [
      "\n",
      "Rental Options:\n",
      "1. Hourly\n",
      "2. Daily\n",
      "3. Weekly\n"
     ]
    },
    {
     "name": "stdin",
     "output_type": "stream",
     "text": [
      "Enter rental period (1/2/3):  1\n",
      "Enter car name:  tata nexon\n",
      "Enter rental duration:  1\n"
     ]
    },
    {
     "name": "stdout",
     "output_type": "stream",
     "text": [
      "Invalid rental period. Please choose hourly, daily, or weekly.\n",
      "\n",
      "Options:\n",
      "1. Rent a car\n",
      "2. Return a car\n",
      "3. Exit\n"
     ]
    },
    {
     "name": "stdin",
     "output_type": "stream",
     "text": [
      "Enter your choice (1/2/3):  \n"
     ]
    },
    {
     "name": "stdout",
     "output_type": "stream",
     "text": [
      "Invalid choice. Please try again.\n",
      "\n",
      "Options:\n",
      "1. Rent a car\n",
      "2. Return a car\n",
      "3. Exit\n"
     ]
    },
    {
     "name": "stdin",
     "output_type": "stream",
     "text": [
      "Enter your choice (1/2/3):  \n"
     ]
    },
    {
     "name": "stdout",
     "output_type": "stream",
     "text": [
      "Invalid choice. Please try again.\n",
      "\n",
      "Options:\n",
      "1. Rent a car\n",
      "2. Return a car\n",
      "3. Exit\n"
     ]
    }
   ],
   "source": [
    "## step 1 :Create a module named car_rental.py and import the datetime module.\n",
    "## Please run it in python compliers\n",
    "# Name of the program : car_rental.py\n",
    "\n",
    "import datetime\n",
    "# Create a class named CarRental for renting cars and define a constructor.\n",
    "\n",
    "class CarRental:\n",
    "    def __init__(self):\n",
    "        self.available_cars = {\"Toyota Corolla\": 5, \"Honda Accord\": 3, \"Tesla Model S\": 2}\n",
    "        self.rental_records = {}  # To store rental records\n",
    "        \n",
    "# Define a method for displaying the available cars.\n",
    "\n",
    "    def display_available_cars(self):\n",
    "        print(\"Available Cars:\")\n",
    "        for car, stock in self.available_cars.items():\n",
    "            print(f\"{car}: {stock} available\")\n",
    "# Define methods for renting cars on an hourly, daily, and weekly basis, respectively.\n",
    "\n",
    "    def rent_hourly(self, customer_name, car, hours):\n",
    "        pass\n",
    "\n",
    "    def rent_daily(self, customer_name, car, days):\n",
    "        pass\n",
    "\n",
    "    def rent_weekly(self, customer_name, car, weeks):\n",
    "        pass\n",
    "# Define a method to return the cars.\n",
    "\n",
    "    def return_car(self, customer_name, car):\n",
    "        pass\n",
    "# Create a class for customers named Customer and define a constructor.\n",
    "class Customer:\n",
    "    def __init__(self,\n",
    " name):\n",
    "        self.name = name\n",
    "# Define methods for requesting and returning the cars in the Customer class.\n",
    "\n",
    "    def request_car(self, rental, car, duration):\n",
    "        pass\n",
    "\n",
    "    def return_car(self, rental, car):\n",
    "        pass\n",
    "        \n",
    "#Defining methods for renting cars on an hourly, daily, and weekly basis, respectively\n",
    "    \n",
    "    def rent_hourly(self, customer_name, car, hours):\n",
    "        if car in self.available_cars and self.available_cars[car] > 0 and hours > 0:\n",
    "            rental_time = datetime.datetime.now()\n",
    "            if customer_name not in self.rental_records:\n",
    "                self.rental_records[customer_name] = {}\n",
    "            self.rental_records[customer_name][car] = {\"rental_time\": rental_time, \"rental_period\": hours, \"rental_rate\": 10 * hours}\n",
    "            self.available_cars[car] -= 1\n",
    "            print(f\"{customer_name} has rented {car} for {hours} hour(s).\")\n",
    "        else:\n",
    "            print(\"Sorry, the requested car is not available or invalid rental duration.\")\n",
    "\n",
    "    def rent_daily(self, customer_name, car, days):\n",
    "        if car in self.available_cars and self.available_cars[car] > 0 and days > 0:\n",
    "            rental_time = datetime.datetime.now()\n",
    "            if customer_name not in self.rental_records:\n",
    "                self.rental_records[customer_name] = {}\n",
    "            self.rental_records[customer_name][car] = {\"rental_time\": rental_time, \"rental_period\": days, \"rental_rate\": 50 * days}\n",
    "            self.available_cars[car] -= 1\n",
    "            print(f\"{customer_name} has rented {car} for {days} day(s).\")\n",
    "        else:\n",
    "            print(\"Sorry, the requested car is not available or invalid rental duration.\")\n",
    "\n",
    "    def rent_weekly(self, customer_name, car, weeks):\n",
    "        if car in self.available_cars and self.available_cars[car] > 0 and weeks > 0:\n",
    "            rental_time = datetime.datetime.now()\n",
    "            if customer_name not in self.rental_records:\n",
    "                self.rental_records[customer_name] = {}\n",
    "            self.rental_records[customer_name][car] = {\"rental_time\": rental_time, \"rental_period\": weeks, \"rental_rate\": 200 * weeks}\n",
    "            self.available_cars[car] -= 1\n",
    "            print(f\"{customer_name} has rented {car} for {weeks} week(s).\")\n",
    "        else:\n",
    "            print(\"Sorry, the requested car is not available or invalid rental duration.\")\n",
    "\n",
    "# Define a method to return the cars\n",
    "\n",
    "    def return_car(self, customer_name, car):\n",
    "        if customer_name in self.rental_records and car in self.rental_records[customer_name]:\n",
    "            rental_info = self.rental_records[customer_name].pop(car)\n",
    "            rental_period = (datetime.datetime.now() - rental_info[\"rental_time\"]).days\n",
    "            rental_rate = rental_info[\"rental_rate\"]\n",
    "            rental_cost = rental_rate * rental_period\n",
    "            self.available_cars[car] += 1\n",
    "            print(f\"{customer_name} has returned {car}. Rental cost: ${rental_cost}\")\n",
    "        else:\n",
    "            print(\"Invalid return request. Please check your rental details.\")\n",
    "            \n",
    "# Define methods for requesting and returning the cars in the Customer class\n",
    "\n",
    "    def request_car(self, rental, car, duration):\n",
    "        pass\n",
    "\n",
    "    def return_car(self, rental, car):\n",
    "        pass\n",
    "\n",
    "# Define methods for requesting and returning the cars in the Customer class.\n",
    "    def request_car(self, rental, car, duration):\n",
    "        if rental == \"hourly\":\n",
    "            rental.rent_hourly(self.name, car, duration)\n",
    "        elif rental == \"daily\":\n",
    "            rental.rent_daily(self.name, car, duration)\n",
    "        elif rental == \"weekly\":\n",
    "            rental.rent_weekly(self.name, car, duration)\n",
    "        else:\n",
    "            print(\"Invalid rental period. Please choose hourly, daily, or weekly.\")\n",
    "\n",
    "    def return_car(self, rental, car):\n",
    "        rental.return_car(self.name, car)\n",
    "\n",
    "# implementation of the car_rental_main.ipynb\n",
    "\n",
    "# Importing the car_rental module from car_rental import CarRental, Customer\n",
    "\n",
    "# Main function\n",
    "def main():\n",
    "    # Create an instance of the CarRental class\n",
    "    rental = CarRental()\n",
    "    \n",
    "    # Display available cars\n",
    "    rental.display_available_cars()\n",
    "    \n",
    "    # Create an instance of the Customer class\n",
    "    customer = Customer(\"John Doe\")\n",
    "    \n",
    "    # Customer's choice\n",
    "    while True:\n",
    "        print(\"\\nOptions:\")\n",
    "        print(\"1. Rent a car\")\n",
    "        print(\"2. Return a car\")\n",
    "        print(\"3. Exit\")\n",
    "        choice = input(\"Enter your choice (1/2/3): \")\n",
    "        \n",
    "        if choice == \"1\":\n",
    "            # Rent a car\n",
    "            print(\"\\nRental Options:\")\n",
    "            print(\"1. Hourly\")\n",
    "            print(\"2. Daily\")\n",
    "            print(\"3. Weekly\")\n",
    "            rental_choice = input(\"Enter rental period (1/2/3): \")\n",
    "            car = input(\"Enter car name: \")\n",
    "            duration = int(input(\"Enter rental duration: \"))\n",
    "            customer.request_car(rental, car, duration)\n",
    "        elif choice == \"2\":\n",
    "            # Return a car\n",
    "            car = input(\"Enter car name to return: \")\n",
    "            customer.return_car(rental, car)\n",
    "        elif choice == \"3\":\n",
    "            print(\"Thank you for using the car rental service. Goodbye!\")\n",
    "            break\n",
    "        else:\n",
    "            print(\"Invalid choice. Please try again.\")\n",
    "\n",
    "# Execute main function\n",
    "if __name__ == \"__main__\":\n",
    "    main()\n",
    "\n",
    "\n"
   ]
  },
  {
   "cell_type": "code",
   "execution_count": null,
   "id": "ae2d6d5f-3bfa-4b49-98b2-daa13430d2eb",
   "metadata": {},
   "outputs": [],
   "source": [
    "2"
   ]
  }
 ],
 "metadata": {
  "kernelspec": {
   "display_name": "Python 3 (ipykernel)",
   "language": "python",
   "name": "python3"
  },
  "language_info": {
   "codemirror_mode": {
    "name": "ipython",
    "version": 3
   },
   "file_extension": ".py",
   "mimetype": "text/x-python",
   "name": "python",
   "nbconvert_exporter": "python",
   "pygments_lexer": "ipython3",
   "version": "3.11.7"
  }
 },
 "nbformat": 4,
 "nbformat_minor": 5
}
