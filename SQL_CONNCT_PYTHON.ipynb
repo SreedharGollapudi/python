{
 "cells": [
  {
   "cell_type": "code",
   "execution_count": 2,
   "id": "ecfb2147",
   "metadata": {},
   "outputs": [
    {
     "name": "stdout",
     "output_type": "stream",
     "text": [
      "Requirement already satisfied: mysql-connector-python in c:\\users\\user\\anaconda3\\lib\\site-packages (8.2.0)\n",
      "Requirement already satisfied: protobuf<=4.21.12,>=4.21.1 in c:\\users\\user\\anaconda3\\lib\\site-packages (from mysql-connector-python) (4.21.12)\n"
     ]
    }
   ],
   "source": [
    "## install connector \n",
    "\n",
    "!pip install mysql-connector-python "
   ]
  },
  {
   "cell_type": "code",
   "execution_count": 3,
   "id": "bb51cbbe",
   "metadata": {},
   "outputs": [
    {
     "name": "stderr",
     "output_type": "stream",
     "text": [
      "C:\\Users\\USER\\anaconda3\\Lib\\site-packages\\pandas\\core\\arrays\\masked.py:60: UserWarning: Pandas requires version '1.3.6' or newer of 'bottleneck' (version '1.3.5' currently installed).\n",
      "  from pandas.core import (\n"
     ]
    }
   ],
   "source": [
    "## Import libraries\n",
    "import pandas as pd \n",
    "import mysql.connector"
   ]
  },
  {
   "cell_type": "code",
   "execution_count": 4,
   "id": "e8705b44",
   "metadata": {},
   "outputs": [
    {
     "name": "stdout",
     "output_type": "stream",
     "text": [
      "<mysql.connector.connection_cext.CMySQLConnection object at 0x000001DE468D7A90>\n",
      "('csv',)\n",
      "('employees_db',)\n",
      "('information_schema',)\n",
      "('mysql',)\n",
      "('performance_schema',)\n",
      "('sys',)\n"
     ]
    }
   ],
   "source": [
    "## Create connection \n",
    "\n",
    "connection = mysql.connector.connect(host = 'localhost',\n",
    "                                     user = 'root',\n",
    "                                     passwd = '12345')\n",
    "print(connection)\n",
    "\n",
    "mc = connection.cursor()\n",
    "mc.execute(\"show databases\")\n",
    "\n",
    "for i in mc:\n",
    "    print(i)\n",
    "    \n",
    "## Close connection \n",
    "connection.close()"
   ]
  },
  {
   "cell_type": "code",
   "execution_count": null,
   "id": "6faf481e",
   "metadata": {},
   "outputs": [],
   "source": [
    "## Write SQL query \n",
    "\n",
    "query = 'create database python_test'\n",
    "\n",
    "## Create connection \n",
    "\n",
    "connection = mysql.connector.connect(host = 'localhost',\n",
    "                                     user = 'root',\n",
    "                                     passwd = '12345')\n",
    "print(connection)\n",
    "\n",
    "mc = connection.cursor()\n",
    "mc.execute(query)\n",
    "    \n",
    "## Close connection \n",
    "connection.close()"
   ]
  },
  {
   "cell_type": "code",
   "execution_count": null,
   "id": "f9a18582",
   "metadata": {},
   "outputs": [],
   "source": [
    "## Write SQL query \n",
    "\n",
    "query = \"\"\"create table customers (\n",
    "            customer_name varchar(20) not null,\n",
    "            customer_id int not null,\n",
    "            age int, \n",
    "            phno int, \n",
    "            order_id int not null\n",
    "            )\"\"\"\n",
    "\n",
    "## Create connection \n",
    "\n",
    "connection = mysql.connector.connect(host = 'localhost',\n",
    "                                     user = 'root',\n",
    "                                     passwd = '12345',\n",
    "                                     database = 'python_test')\n",
    "print(connection)\n",
    "\n",
    "mc = connection.cursor()\n",
    "mc.execute(query)\n",
    "    \n",
    "## Close connection \n",
    "connection.close()"
   ]
  },
  {
   "cell_type": "code",
   "execution_count": null,
   "id": "36f657cf",
   "metadata": {},
   "outputs": [],
   "source": [
    "## Create connection \n",
    "\n",
    "connection = mysql.connector.connect(host = 'localhost',\n",
    "                                     user = 'root',\n",
    "                                     passwd = '12345',\n",
    "                                     database = 'python_test')\n",
    "print(connection)\n",
    "\n",
    "mc = connection.cursor()\n",
    "\n",
    "insert_query = \"INSERT INTO Customers (CUSTOMER_NAME, CUSTOMER_ID, AGE, PHNO, ORDER_ID) VALUES (%s, %s, %s, %s, %s)\"\n",
    "val = (\"Billy\", 1001, 45, 18055, 60709)\n",
    "   \n",
    "mc.execute(insert_query, val)\n",
    "connection.commit()"
   ]
  },
  {
   "cell_type": "code",
   "execution_count": null,
   "id": "1abd937a",
   "metadata": {},
   "outputs": [],
   "source": [
    "insert_query = \"INSERT INTO Customers (CUSTOMER_NAME, CUSTOMER_ID, AGE, PHNO, ORDER_ID) VALUES (%s, %s, %s, %s, %s)\"\n",
    "val = [(\"Johnny\", 1008, 30, 18065, 60809),\n",
    "       (\"Tommy\",  1006, 35, 18007, 60777),\n",
    "       (\"James\",  1004, 42, 18099, 60989),\n",
    "       (\"Darcy\",  1005, 38, 18003, 60111),\n",
    "       (\"Samson\", 1002, 44, 18012, 60121),\n",
    "       (\"Xerxes\", 1003, 33, 18066, 60345),\n",
    "       (\"Ceaser\", 1007, 41, 18099, 60999)]\n",
    "   \n",
    "mc.executemany(insert_query, val)\n",
    "connection.commit()"
   ]
  },
  {
   "cell_type": "code",
   "execution_count": null,
   "id": "f9f1c675",
   "metadata": {},
   "outputs": [],
   "source": [
    "## Get the data from SQL to python \n",
    "\n",
    "df = pd.read_sql(\"select * from customers\", connection)\n",
    "df"
   ]
  },
  {
   "cell_type": "code",
   "execution_count": null,
   "id": "251489bb",
   "metadata": {},
   "outputs": [],
   "source": [
    "## Get the data from SQL to python \n",
    "\n",
    "df = pd.read_sql(\"select * from employees_db.sample_superstore\", connection)\n",
    "df"
   ]
  },
  {
   "cell_type": "code",
   "execution_count": null,
   "id": "25274854",
   "metadata": {},
   "outputs": [],
   "source": [
    "df.info()"
   ]
  },
  {
   "cell_type": "code",
   "execution_count": null,
   "id": "2e2efc50",
   "metadata": {},
   "outputs": [],
   "source": [
    "df.describe()"
   ]
  },
  {
   "cell_type": "code",
   "execution_count": null,
   "id": "e02110f6",
   "metadata": {},
   "outputs": [],
   "source": []
  },
  {
   "cell_type": "code",
   "execution_count": null,
   "id": "f58a56bb",
   "metadata": {},
   "outputs": [],
   "source": []
  }
 ],
 "metadata": {
  "kernelspec": {
   "display_name": "Python 3 (ipykernel)",
   "language": "python",
   "name": "python3"
  },
  "language_info": {
   "codemirror_mode": {
    "name": "ipython",
    "version": 3
   },
   "file_extension": ".py",
   "mimetype": "text/x-python",
   "name": "python",
   "nbconvert_exporter": "python",
   "pygments_lexer": "ipython3",
   "version": "3.11.5"
  }
 },
 "nbformat": 4,
 "nbformat_minor": 5
}
